{
 "cells": [
  {
   "cell_type": "code",
   "execution_count": 1,
   "metadata": {},
   "outputs": [],
   "source": [
    "import pandas as pd\n",
    "import os\n",
    "import numpy as np\n",
    "os.chdir(r\"C:\\Users\\Dell\\Desktop\\churn modelling dataset\")\n",
    "data = pd.read_csv(\"Churn_Modelling.csv\")"
   ]
  },
  {
   "cell_type": "code",
   "execution_count": 11,
   "metadata": {},
   "outputs": [
    {
     "data": {
      "text/plain": [
       "True"
      ]
     },
     "execution_count": 11,
     "metadata": {},
     "output_type": "execute_result"
    }
   ],
   "source": [
    "isinstance(data, pd.DataFrame)"
   ]
  },
  {
   "cell_type": "code",
   "execution_count": 8,
   "metadata": {},
   "outputs": [],
   "source": [
    "class preprocessing():\n",
    "\n",
    "    def __init__(self, dataframe):\n",
    "\n",
    "        self.dataframe = dataframe\n",
    "        self.data = None\n",
    "        self.labels = None\n",
    "        \n",
    "        \n",
    "    def segregate(self):\n",
    "        \n",
    "        if isinstance(self.dataframe, pd.DataFrame):\n",
    "            \n",
    "            self.data = np.array([\n",
    "                             self.dataframe[\"CreditScore\"].values, \n",
    "                              *pd.get_dummies(self.dataframe.Geography).iloc[:, 1:].values.T, \n",
    "                                pd.get_dummies(self.dataframe.Gender).iloc[:, 1:].values.flatten(),\n",
    "                                 *self.dataframe.loc[:, \"Age\":\"EstimatedSalary\"].values.T\n",
    "                            ])\n",
    "\n",
    "            self.labels = self.dataframe[\"Exited\"].values.T\n",
    "\n",
    "            return data, labels\n",
    "\n",
    "    def normalize(self):\n",
    "        \n",
    "        return np.apply_along_axis(lambda x:(max(x) - x)/(max(x) - min(x)), 0, self.data)\n",
    "        \n",
    "class data(processing):\n",
    "    \n",
    "    def __init__():\n",
    "        preprocessing.__init__(self, data)\n",
    "        self.segregate(self.data)\n",
    "        self.normalize()\n",
    "            \n",
    "    "
   ]
  },
  {
   "cell_type": "code",
   "execution_count": 32,
   "metadata": {},
   "outputs": [
    {
     "data": {
      "text/plain": [
       "1"
      ]
     },
     "execution_count": 32,
     "metadata": {},
     "output_type": "execute_result"
    }
   ],
   "source": [
    "sum(np.unique(np.apply_along_axis(lambda x:(max(x) - x)/(max(x) - min(x)), 0, train )[1])==1)"
   ]
  },
  {
   "cell_type": "code",
   "execution_count": 18,
   "metadata": {},
   "outputs": [
    {
     "data": {
      "text/plain": [
       "array([[6.1900000e+02, 6.0800000e+02, 5.0200000e+02, ..., 7.0900000e+02,\n",
       "        7.7200000e+02, 7.9200000e+02],\n",
       "       [0.0000000e+00, 0.0000000e+00, 0.0000000e+00, ..., 0.0000000e+00,\n",
       "        1.0000000e+00, 0.0000000e+00],\n",
       "       [0.0000000e+00, 1.0000000e+00, 0.0000000e+00, ..., 0.0000000e+00,\n",
       "        0.0000000e+00, 0.0000000e+00],\n",
       "       ...,\n",
       "       [1.0000000e+00, 0.0000000e+00, 1.0000000e+00, ..., 0.0000000e+00,\n",
       "        1.0000000e+00, 1.0000000e+00],\n",
       "       [1.0000000e+00, 1.0000000e+00, 0.0000000e+00, ..., 1.0000000e+00,\n",
       "        0.0000000e+00, 0.0000000e+00],\n",
       "       [1.0134888e+05, 1.1254258e+05, 1.1393157e+05, ..., 4.2085578e+04,\n",
       "        9.2888523e+04, 3.8190781e+04]], dtype=float32)"
      ]
     },
     "execution_count": 18,
     "metadata": {},
     "output_type": "execute_result"
    }
   ],
   "source": []
  },
  {
   "cell_type": "code",
   "execution_count": 30,
   "metadata": {},
   "outputs": [
    {
     "data": {
      "text/plain": [
       "array([0., 1.], dtype=float32)"
      ]
     },
     "execution_count": 30,
     "metadata": {},
     "output_type": "execute_result"
    }
   ],
   "source": [
    "train[1]"
   ]
  },
  {
   "cell_type": "code",
   "execution_count": null,
   "metadata": {},
   "outputs": [],
   "source": []
  }
 ],
 "metadata": {
  "kernelspec": {
   "display_name": "Python 3",
   "language": "python",
   "name": "python3"
  },
  "language_info": {
   "codemirror_mode": {
    "name": "ipython",
    "version": 3
   },
   "file_extension": ".py",
   "mimetype": "text/x-python",
   "name": "python",
   "nbconvert_exporter": "python",
   "pygments_lexer": "ipython3",
   "version": "3.6.8"
  }
 },
 "nbformat": 4,
 "nbformat_minor": 2
}

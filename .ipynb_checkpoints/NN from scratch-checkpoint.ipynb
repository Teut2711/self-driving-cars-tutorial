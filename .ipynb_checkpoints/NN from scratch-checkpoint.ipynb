{
 "cells": [
  {
   "cell_type": "code",
   "execution_count": 6,
   "metadata": {},
   "outputs": [],
   "source": [
    "import numpy as np\n",
    "import matplotlib.pyplot as plt"
   ]
  },
  {
   "cell_type": "code",
   "execution_count": 16,
   "metadata": {},
   "outputs": [],
   "source": [
    "sigmoid = lambda x:1/(1+ np.exp(-x))\n",
    "\n",
    "def draw(x1, x2):\n",
    "    plt.plot(x1, x2)\n",
    "    \n",
    "\n",
    "def calculate_error(points, y, line_parameters):\n",
    "    p = sigmoid(points * line_parameters)\n",
    "    cross_entropy = -sum(y.T*np.log(p) + (1-y).T*np.log(1-p))\n",
    "    return cross_entropy\n",
    "\n",
    "def gradient_descend(alpha=.03):\n",
    "    global all_points, y, line_parameters\n",
    "    m = all_points.shape[0]\n",
    "    for i in range(5000):\n",
    "        p = sigmoid(all_points * line_parameters)\n",
    "        gradient = (all_points.T * (p-y))/ m\n",
    "        line_parameters = line_parameters - alpha * gradient\n",
    "        x1 = np.array([all_points[:, 0].min(), all_points[:, 0].max()])\n",
    "        w1, w2, b = np.asarray(line_parameters).flatten()\n",
    "        x2 = -b/w2 + x1*(-w1/w2)\n",
    "    draw(x1, x2)"
   ]
  },
  {
   "cell_type": "code",
   "execution_count": 22,
   "metadata": {},
   "outputs": [],
   "source": [
    "n_pts = 100\n",
    "np.random.seed(0)\n",
    "b = np.ones(n_pts)\n",
    "w1 = -.1\n",
    "w2 = -.35\n",
    "b = 3.5\n",
    "line_parameters = np.matrix([w1, w2, b]).T\n",
    "top_region = np.array([np.random.normal(10, 2, n_pts), np.random.normal(12, 2, n_pts)]).T\n",
    "bottom_region = np.array([np.random.normal(5, 2, n_pts), np.random.normal(6, 2, n_pts)]).T\n",
    "x1 = np.array([bottom_region[:, 0].min(), top_region[:, 0].max()])\n",
    "x2 = -b/w2 + x1*(-w1/w2)\n"
   ]
  },
  {
   "cell_type": "code",
   "execution_count": 23,
   "metadata": {},
   "outputs": [],
   "source": [
    "all_points = np.vstack([top_region, bottom_region])\n",
    "all_points = np.hstack([all_points, np.ones((2*n_pts, 1))])\n",
    "y = np.vstack([np.ones((n_pts, 1)), np.zeros((n_pts, 1))])"
   ]
  },
  {
   "cell_type": "code",
   "execution_count": 27,
   "metadata": {},
   "outputs": [
    {
     "data": {
      "image/png": "[encoded data removed]",
      "text/plain": [
       "<Figure size 288x288 with 1 Axes>"
      ]
     },
     "metadata": {
      "needs_background": "light"
     },
     "output_type": "display_data"
    }
   ],
   "source": [
    "_, ax = plt.subplots(figsize=(4, 4))\n",
    "ax.scatter(top_region[:, 0],top_region[:, 1],color='r')\n",
    "ax.scatter(bottom_region[:, 0],bottom_region[:, 1],color=\"b\")\n",
    "import time\n",
    "for i in range(100):\n",
    "    gradient_descend()\n",
    "plt.show()"
   ]
  },
  {
   "cell_type": "code",
   "execution_count": null,
   "metadata": {},
   "outputs": [],
   "source": []
  },
  {
   "cell_type": "code",
   "execution_count": null,
   "metadata": {},
   "outputs": [],
   "source": []
  }
 ],
 "metadata": {
  "kernelspec": {
   "display_name": "Python 3",
   "language": "python",
   "name": "python3"
  },
  "language_info": {
   "codemirror_mode": {
    "name": "ipython",
    "version": 3
   },
   "file_extension": ".py",
   "mimetype": "text/x-python",
   "name": "python",
   "nbconvert_exporter": "python",
   "pygments_lexer": "ipython3",
   "version": "3.6.8"
  }
 },
 "nbformat": 4,
 "nbformat_minor": 2
}
